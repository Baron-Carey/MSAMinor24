{
 "cells": [
  {
   "cell_type": "code",
   "execution_count": 75,
   "metadata": {},
   "outputs": [
    {
     "name": "stdout",
     "output_type": "stream",
     "text": [
      "Baron\n"
     ]
    }
   ],
   "source": [
    "#print my name\n",
    "print(\"Baron\")\n"
   ]
  },
  {
   "cell_type": "code",
   "execution_count": 76,
   "metadata": {},
   "outputs": [
    {
     "name": "stdout",
     "output_type": "stream",
     "text": [
      "24\n",
      "35\n"
     ]
    }
   ],
   "source": [
    "#Variable assignments\n",
    "number_1 = 24\n",
    "number_2 = 35\n",
    "my_name = \"Kristofferson\"\n",
    "\n",
    "print(number_1)\n",
    "print(number_2)"
   ]
  },
  {
   "cell_type": "code",
   "execution_count": 77,
   "metadata": {},
   "outputs": [
    {
     "name": "stdout",
     "output_type": "stream",
     "text": [
      "24 * 35 = 840\n",
      "24 * 35 = 840\n"
     ]
    }
   ],
   "source": [
    "#Multiply numbwer 1 and number 2\n",
    "product = number_1 * number_2\n",
    "print(number_1,\"*\",number_2,\"=\",product)\n",
    "print(f'{number_1} * {number_2} = {product}')"
   ]
  },
  {
   "cell_type": "code",
   "execution_count": 78,
   "metadata": {},
   "outputs": [
    {
     "name": "stdout",
     "output_type": "stream",
     "text": [
      "124\n",
      "77.4\n",
      "93\n",
      "32\n",
      "47\n"
     ]
    }
   ],
   "source": [
    "#Create a list of numbers\n",
    "housing_prices = [124, 77.4, 93, 32, 47]\n",
    "\n",
    "for index in range(len(housing_prices)):\n",
    "    print(housing_prices[index])"
   ]
  }
 ],
 "metadata": {
  "kernelspec": {
   "display_name": "Python 3",
   "language": "python",
   "name": "python3"
  },
  "language_info": {
   "codemirror_mode": {
    "name": "ipython",
    "version": 3
   },
   "file_extension": ".py",
   "mimetype": "text/x-python",
   "name": "python",
   "nbconvert_exporter": "python",
   "pygments_lexer": "ipython3",
   "version": "3.10.5"
  }
 },
 "nbformat": 4,
 "nbformat_minor": 2
}
